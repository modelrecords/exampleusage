{
 "cells": [
  {
   "cell_type": "markdown",
   "metadata": {},
   "source": [
    "If you haven't submitted your model to the model records repository, you can host it locally and still import the relative dependency"
   ]
  },
  {
   "cell_type": "code",
   "execution_count": 1,
   "metadata": {},
   "outputs": [],
   "source": [
    "from modelrecords.repository import Repository"
   ]
  },
  {
   "cell_type": "code",
   "execution_count": 3,
   "metadata": {},
   "outputs": [
    {
     "data": {
      "text/plain": [
       "{'name': 'My Happy Model (test)!', 'refs': ['https://huggingface.co/bigscience/bloomz/raw/main/README.md', 'https://arxiv.org/pdf/2211.01786.pdf'], 'description': '', 'version': '1.0', 'publisher': 'Happy panda co.', 'model_type': 'Multitask Fine-tuned Language Model', 'release_date': '2022-11-17'}"
      ]
     },
     "execution_count": 3,
     "metadata": {},
     "output_type": "execute_result"
    }
   ],
   "source": [
    "Repository().merge_yml_modelrecords('mymodel-1.0.0.yaml').mr.metadata"
   ]
  }
 ],
 "metadata": {
  "kernelspec": {
   "display_name": "modelrecords_exampleusage",
   "language": "python",
   "name": "python3"
  },
  "language_info": {
   "codemirror_mode": {
    "name": "ipython",
    "version": 3
   },
   "file_extension": ".py",
   "mimetype": "text/x-python",
   "name": "python",
   "nbconvert_exporter": "python",
   "pygments_lexer": "ipython3",
   "version": "3.12.3"
  }
 },
 "nbformat": 4,
 "nbformat_minor": 2
}
